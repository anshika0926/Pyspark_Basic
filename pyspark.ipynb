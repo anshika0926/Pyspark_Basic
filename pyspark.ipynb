{
  "nbformat": 4,
  "nbformat_minor": 0,
  "metadata": {
    "colab": {
      "provenance": []
    },
    "kernelspec": {
      "name": "python3",
      "display_name": "Python 3"
    },
    "language_info": {
      "name": "python"
    }
  },
  "cells": [
    {
      "cell_type": "markdown",
      "source": [
        "# First Lets install PySpark"
      ],
      "metadata": {
        "id": "SY_OSoWyhoBg"
      }
    },
    {
      "cell_type": "code",
      "execution_count": null,
      "metadata": {
        "colab": {
          "base_uri": "https://localhost:8080/"
        },
        "id": "m7CPasXydNvg",
        "outputId": "c55499fc-4585-4d0b-fabe-1a8dacd02a5c"
      },
      "outputs": [
        {
          "output_type": "stream",
          "name": "stdout",
          "text": [
            "Looking in indexes: https://pypi.org/simple, https://us-python.pkg.dev/colab-wheels/public/simple/\n",
            "Collecting pyspark\n",
            "  Downloading pyspark-3.3.1.tar.gz (281.4 MB)\n",
            "\u001b[K     |████████████████████████████████| 281.4 MB 43 kB/s \n",
            "\u001b[?25hCollecting py4j==0.10.9.5\n",
            "  Downloading py4j-0.10.9.5-py2.py3-none-any.whl (199 kB)\n",
            "\u001b[K     |████████████████████████████████| 199 kB 42.8 MB/s \n",
            "\u001b[?25hBuilding wheels for collected packages: pyspark\n",
            "  Building wheel for pyspark (setup.py) ... \u001b[?25l\u001b[?25hdone\n",
            "  Created wheel for pyspark: filename=pyspark-3.3.1-py2.py3-none-any.whl size=281845512 sha256=48cd4fe3c8f498171e336b5f8d889640b941bd7912cab2c764a4d035669fb1f4\n",
            "  Stored in directory: /root/.cache/pip/wheels/42/59/f5/79a5bf931714dcd201b26025347785f087370a10a3329a899c\n",
            "Successfully built pyspark\n",
            "Installing collected packages: py4j, pyspark\n",
            "Successfully installed py4j-0.10.9.5 pyspark-3.3.1\n"
          ]
        }
      ],
      "source": [
        "!pip install pyspark"
      ]
    },
    {
      "cell_type": "code",
      "source": [
        "import pyspark"
      ],
      "metadata": {
        "id": "A_FSe3pieyJM"
      },
      "execution_count": null,
      "outputs": []
    },
    {
      "cell_type": "code",
      "source": [
        "import pandas as pd"
      ],
      "metadata": {
        "id": "kgQURpOufotM"
      },
      "execution_count": null,
      "outputs": []
    },
    {
      "cell_type": "code",
      "source": [
        "## start the spark sessio:\n",
        "from pyspark.sql import SparkSession"
      ],
      "metadata": {
        "id": "PyhIG6u1fs9G"
      },
      "execution_count": null,
      "outputs": []
    },
    {
      "cell_type": "code",
      "source": [
        "spark = SparkSession.builder.appName('basics_of_pyspark').getOrCreate()"
      ],
      "metadata": {
        "id": "JumAIys0fvEA"
      },
      "execution_count": null,
      "outputs": []
    },
    {
      "cell_type": "code",
      "source": [
        "spark"
      ],
      "metadata": {
        "colab": {
          "base_uri": "https://localhost:8080/",
          "height": 219
        },
        "id": "e0k8qpc0gL-j",
        "outputId": "e5b1ddf3-01f3-4aec-c18e-2698e732107b"
      },
      "execution_count": null,
      "outputs": [
        {
          "output_type": "execute_result",
          "data": {
            "text/plain": [
              "<pyspark.sql.session.SparkSession at 0x7f5056a4c9d0>"
            ],
            "text/html": [
              "\n",
              "            <div>\n",
              "                <p><b>SparkSession - in-memory</b></p>\n",
              "                \n",
              "        <div>\n",
              "            <p><b>SparkContext</b></p>\n",
              "\n",
              "            <p><a href=\"http://df10ab8e2f5f:4040\">Spark UI</a></p>\n",
              "\n",
              "            <dl>\n",
              "              <dt>Version</dt>\n",
              "                <dd><code>v3.3.1</code></dd>\n",
              "              <dt>Master</dt>\n",
              "                <dd><code>local[*]</code></dd>\n",
              "              <dt>AppName</dt>\n",
              "                <dd><code>basics_of_pyspark</code></dd>\n",
              "            </dl>\n",
              "        </div>\n",
              "        \n",
              "            </div>\n",
              "        "
            ]
          },
          "metadata": {},
          "execution_count": 7
        }
      ]
    },
    {
      "cell_type": "code",
      "source": [
        "df = spark.read.csv(\"/content/drive/MyDrive/machine learning_cdac/Datasets/Airquality.csv\")"
      ],
      "metadata": {
        "id": "dpWXqGnUfQ0x"
      },
      "execution_count": null,
      "outputs": []
    },
    {
      "cell_type": "code",
      "source": [
        "df.show()"
      ],
      "metadata": {
        "colab": {
          "base_uri": "https://localhost:8080/"
        },
        "id": "fMbD-gbJgWwC",
        "outputId": "b62b0425-8939-453e-defa-a1538f5b09d1"
      },
      "execution_count": null,
      "outputs": [
        {
          "output_type": "stream",
          "name": "stdout",
          "text": [
            "+-----+-------+----+----+-----+---+\n",
            "|  _c0|    _c1| _c2| _c3|  _c4|_c5|\n",
            "+-----+-------+----+----+-----+---+\n",
            "|Ozone|Solar.R|Wind|Temp|Month|Day|\n",
            "|   41|    190| 7.4|  67|    5|  1|\n",
            "|   36|    118|   8|  72|    5|  2|\n",
            "|   12|    149|12.6|  74|    5|  3|\n",
            "|   18|    313|11.5|  62|    5|  4|\n",
            "|   NA|     NA|14.3|  56|    5|  5|\n",
            "|   28|     NA|14.9|  66|    5|  6|\n",
            "|   23|    299| 8.6|  65|    5|  7|\n",
            "|   19|     99|13.8|  59|    5|  8|\n",
            "|    8|     19|20.1|  61|    5|  9|\n",
            "|   NA|    194| 8.6|  69|    5| 10|\n",
            "|    7|     NA| 6.9|  74|    5| 11|\n",
            "|   16|    256| 9.7|  69|    5| 12|\n",
            "|   11|    290| 9.2|  66|    5| 13|\n",
            "|   14|    274|10.9|  68|    5| 14|\n",
            "|   18|     65|13.2|  58|    5| 15|\n",
            "|   14|    334|11.5|  64|    5| 16|\n",
            "|   34|    307|  12|  66|    5| 17|\n",
            "|    6|     78|18.4|  57|    5| 18|\n",
            "|   30|    322|11.5|  68|    5| 19|\n",
            "+-----+-------+----+----+-----+---+\n",
            "only showing top 20 rows\n",
            "\n"
          ]
        }
      ]
    },
    {
      "cell_type": "code",
      "source": [
        "### .option function to get the column names instaed of c0_string :\n",
        "\n",
        "df = spark.read.option('header','true').csv(\"/content/drive/MyDrive/machine learning_cdac/Datasets/Airquality.csv\")"
      ],
      "metadata": {
        "id": "Kjx57yArgaaJ"
      },
      "execution_count": null,
      "outputs": []
    },
    {
      "cell_type": "code",
      "source": [
        "df.show()"
      ],
      "metadata": {
        "colab": {
          "base_uri": "https://localhost:8080/"
        },
        "id": "Lk5yww3RhESy",
        "outputId": "02149537-7eb4-40da-a6a9-15fcec895dde"
      },
      "execution_count": null,
      "outputs": [
        {
          "output_type": "stream",
          "name": "stdout",
          "text": [
            "+-----+-------+----+----+-----+---+\n",
            "|Ozone|Solar.R|Wind|Temp|Month|Day|\n",
            "+-----+-------+----+----+-----+---+\n",
            "|   41|    190| 7.4|  67|    5|  1|\n",
            "|   36|    118|   8|  72|    5|  2|\n",
            "|   12|    149|12.6|  74|    5|  3|\n",
            "|   18|    313|11.5|  62|    5|  4|\n",
            "|   NA|     NA|14.3|  56|    5|  5|\n",
            "|   28|     NA|14.9|  66|    5|  6|\n",
            "|   23|    299| 8.6|  65|    5|  7|\n",
            "|   19|     99|13.8|  59|    5|  8|\n",
            "|    8|     19|20.1|  61|    5|  9|\n",
            "|   NA|    194| 8.6|  69|    5| 10|\n",
            "|    7|     NA| 6.9|  74|    5| 11|\n",
            "|   16|    256| 9.7|  69|    5| 12|\n",
            "|   11|    290| 9.2|  66|    5| 13|\n",
            "|   14|    274|10.9|  68|    5| 14|\n",
            "|   18|     65|13.2|  58|    5| 15|\n",
            "|   14|    334|11.5|  64|    5| 16|\n",
            "|   34|    307|  12|  66|    5| 17|\n",
            "|    6|     78|18.4|  57|    5| 18|\n",
            "|   30|    322|11.5|  68|    5| 19|\n",
            "|   11|     44| 9.7|  62|    5| 20|\n",
            "+-----+-------+----+----+-----+---+\n",
            "only showing top 20 rows\n",
            "\n"
          ]
        }
      ]
    },
    {
      "cell_type": "code",
      "source": [
        "type(df)"
      ],
      "metadata": {
        "colab": {
          "base_uri": "https://localhost:8080/"
        },
        "id": "2FdxsY5Vg0el",
        "outputId": "9eddd51f-ced5-4232-f3fc-f5e545bc0e68"
      },
      "execution_count": null,
      "outputs": [
        {
          "output_type": "execute_result",
          "data": {
            "text/plain": [
              "pyspark.sql.dataframe.DataFrame"
            ]
          },
          "metadata": {},
          "execution_count": 15
        }
      ]
    },
    {
      "cell_type": "code",
      "source": [
        "## reading 1st row of a dataframe\n",
        "df.head()"
      ],
      "metadata": {
        "id": "c__KSklAg9GT"
      },
      "execution_count": null,
      "outputs": []
    },
    {
      "cell_type": "markdown",
      "source": [
        "## To know the Datatypes of dataframe columns:"
      ],
      "metadata": {
        "id": "bc3ok1CAAdTV"
      }
    },
    {
      "cell_type": "markdown",
      "source": [
        "1."
      ],
      "metadata": {
        "id": "WSJ0-TSDA88u"
      }
    },
    {
      "cell_type": "code",
      "source": [
        "## to get info of a datframe\n",
        "df.printSchema()"
      ],
      "metadata": {
        "colab": {
          "base_uri": "https://localhost:8080/"
        },
        "id": "33DCq8gThHVo",
        "outputId": "c0053a86-4b3e-40dc-aa36-cd8caa6e5820"
      },
      "execution_count": null,
      "outputs": [
        {
          "output_type": "stream",
          "name": "stdout",
          "text": [
            "root\n",
            " |-- Ozone: string (nullable = true)\n",
            " |-- Solar.R: string (nullable = true)\n",
            " |-- Wind: string (nullable = true)\n",
            " |-- Temp: string (nullable = true)\n",
            " |-- Month: string (nullable = true)\n",
            " |-- Day: string (nullable = true)\n",
            "\n"
          ]
        }
      ]
    },
    {
      "cell_type": "code",
      "source": [
        "## by default pyspark take data type as string as seen above, we had to pass inferSchema=True"
      ],
      "metadata": {
        "id": "5KK0BmA5hNDe"
      },
      "execution_count": null,
      "outputs": []
    },
    {
      "cell_type": "code",
      "source": [
        "df = spark.read.csv(\"/content/drive/MyDrive/machine learning_cdac/Datasets/Airquality.csv\",header=True,inferSchema=True)"
      ],
      "metadata": {
        "id": "DhLTi3P7-KTv"
      },
      "execution_count": null,
      "outputs": []
    },
    {
      "cell_type": "code",
      "source": [
        "df.printSchema()   ## we can see the difference in datatype."
      ],
      "metadata": {
        "colab": {
          "base_uri": "https://localhost:8080/"
        },
        "id": "7HabYUpA-YOQ",
        "outputId": "7659a6dd-66b8-468f-9d80-56a02b8da233"
      },
      "execution_count": null,
      "outputs": [
        {
          "output_type": "stream",
          "name": "stdout",
          "text": [
            "root\n",
            " |-- Ozone: string (nullable = true)\n",
            " |-- Solar.R: string (nullable = true)\n",
            " |-- Wind: double (nullable = true)\n",
            " |-- Temp: integer (nullable = true)\n",
            " |-- Month: integer (nullable = true)\n",
            " |-- Day: integer (nullable = true)\n",
            "\n"
          ]
        }
      ]
    },
    {
      "cell_type": "markdown",
      "source": [
        "2."
      ],
      "metadata": {
        "id": "W_5tVn0VA_Ej"
      }
    },
    {
      "cell_type": "code",
      "source": [
        "df.columns"
      ],
      "metadata": {
        "colab": {
          "base_uri": "https://localhost:8080/"
        },
        "id": "JE56CXGX-32a",
        "outputId": "b1ae3765-b969-452b-bae7-fc67d816c39b"
      },
      "execution_count": null,
      "outputs": [
        {
          "output_type": "execute_result",
          "data": {
            "text/plain": [
              "['Ozone', 'Solar.R', 'Wind', 'Temp', 'Month', 'Day']"
            ]
          },
          "metadata": {},
          "execution_count": 24
        }
      ]
    },
    {
      "cell_type": "markdown",
      "source": [
        "3."
      ],
      "metadata": {
        "id": "yNhBK4gNBAxc"
      }
    },
    {
      "cell_type": "code",
      "source": [
        "df.head(5)"
      ],
      "metadata": {
        "colab": {
          "base_uri": "https://localhost:8080/"
        },
        "id": "-CQ0m_8iA6GH",
        "outputId": "19e9cf99-368c-45d0-a703-69f028d18d06"
      },
      "execution_count": null,
      "outputs": [
        {
          "output_type": "execute_result",
          "data": {
            "text/plain": [
              "[Row(Ozone='41', Solar.R='190', Wind=7.4, Temp=67, Month=5, Day=1),\n",
              " Row(Ozone='36', Solar.R='118', Wind=8.0, Temp=72, Month=5, Day=2),\n",
              " Row(Ozone='12', Solar.R='149', Wind=12.6, Temp=74, Month=5, Day=3),\n",
              " Row(Ozone='18', Solar.R='313', Wind=11.5, Temp=62, Month=5, Day=4),\n",
              " Row(Ozone='NA', Solar.R='NA', Wind=14.3, Temp=56, Month=5, Day=5)]"
            ]
          },
          "metadata": {},
          "execution_count": 25
        }
      ]
    },
    {
      "cell_type": "markdown",
      "source": [
        "4.  To select particular column:"
      ],
      "metadata": {
        "id": "QO-w8bMRBaf0"
      }
    },
    {
      "cell_type": "code",
      "source": [
        "df.select('Ozone') ## return type is dataframe"
      ],
      "metadata": {
        "colab": {
          "base_uri": "https://localhost:8080/"
        },
        "id": "Z6oA77VFBHKK",
        "outputId": "05c167e6-4e71-4267-b68b-aa693aa902c5"
      },
      "execution_count": null,
      "outputs": [
        {
          "output_type": "execute_result",
          "data": {
            "text/plain": [
              "DataFrame[Ozone: string]"
            ]
          },
          "metadata": {},
          "execution_count": 26
        }
      ]
    },
    {
      "cell_type": "code",
      "source": [
        "df.select('Ozone').show(2)"
      ],
      "metadata": {
        "colab": {
          "base_uri": "https://localhost:8080/"
        },
        "id": "LkcP_5hYBfZF",
        "outputId": "13f4c939-61f9-48a6-d658-06115b2b5424"
      },
      "execution_count": null,
      "outputs": [
        {
          "output_type": "stream",
          "name": "stdout",
          "text": [
            "+-----+\n",
            "|Ozone|\n",
            "+-----+\n",
            "|   41|\n",
            "|   36|\n",
            "+-----+\n",
            "only showing top 2 rows\n",
            "\n"
          ]
        }
      ]
    },
    {
      "cell_type": "markdown",
      "source": [
        "## selecting multiple columns:"
      ],
      "metadata": {
        "id": "yAEeE458hSF0"
      }
    },
    {
      "cell_type": "code",
      "source": [
        "df.select(['Ozone','Wind']).show(5)"
      ],
      "metadata": {
        "colab": {
          "base_uri": "https://localhost:8080/"
        },
        "id": "OH4EG_P3BtUo",
        "outputId": "e45770fb-d51a-4990-e8c2-a6f689b4f8b9"
      },
      "execution_count": null,
      "outputs": [
        {
          "output_type": "stream",
          "name": "stdout",
          "text": [
            "+-----+----+\n",
            "|Ozone|Wind|\n",
            "+-----+----+\n",
            "|   41| 7.4|\n",
            "|   36| 8.0|\n",
            "|   12|12.6|\n",
            "|   18|11.5|\n",
            "|   NA|14.3|\n",
            "+-----+----+\n",
            "only showing top 5 rows\n",
            "\n"
          ]
        }
      ]
    },
    {
      "cell_type": "markdown",
      "source": [
        "5. DTYPES:"
      ],
      "metadata": {
        "id": "aTMkHXohCLBM"
      }
    },
    {
      "cell_type": "code",
      "source": [
        "df.dtypes"
      ],
      "metadata": {
        "colab": {
          "base_uri": "https://localhost:8080/"
        },
        "id": "3pe0yRhlBx96",
        "outputId": "049e50f0-08e8-4b3c-d219-8a769ae0183b"
      },
      "execution_count": null,
      "outputs": [
        {
          "output_type": "execute_result",
          "data": {
            "text/plain": [
              "[('Ozone', 'string'),\n",
              " ('Solar.R', 'string'),\n",
              " ('Wind', 'double'),\n",
              " ('Temp', 'int'),\n",
              " ('Month', 'int'),\n",
              " ('Day', 'int')]"
            ]
          },
          "metadata": {},
          "execution_count": 34
        }
      ]
    },
    {
      "cell_type": "markdown",
      "source": [
        "### we can also use pandas describe :"
      ],
      "metadata": {
        "id": "QER60CAshbGI"
      }
    },
    {
      "cell_type": "code",
      "source": [
        "df.describe().show()"
      ],
      "metadata": {
        "colab": {
          "base_uri": "https://localhost:8080/"
        },
        "id": "LgNPz0nbCP6r",
        "outputId": "337a6b57-e090-419c-b1ef-337488066951"
      },
      "execution_count": null,
      "outputs": [
        {
          "output_type": "stream",
          "name": "stdout",
          "text": [
            "+-------+-----------------+------------------+-----------------+-----------------+------------------+------------------+\n",
            "|summary|            Ozone|           Solar.R|             Wind|             Temp|             Month|               Day|\n",
            "+-------+-----------------+------------------+-----------------+-----------------+------------------+------------------+\n",
            "|  count|              153|               153|              153|              153|               153|               153|\n",
            "|   mean|42.12931034482759|185.93150684931507| 9.95751633986928|77.88235294117646| 6.993464052287582|15.803921568627452|\n",
            "| stddev|32.98788451443395| 90.05842222838169|3.523001352212597|9.465269740971461|1.4165224840123158|  8.86452036842542|\n",
            "|    min|                1|               101|              1.7|               56|                 5|                 1|\n",
            "|    max|               NA|                NA|             20.7|               97|                 9|                31|\n",
            "+-------+-----------------+------------------+-----------------+-----------------+------------------+------------------+\n",
            "\n"
          ]
        }
      ]
    },
    {
      "cell_type": "markdown",
      "source": [
        "6. ADDING COLUMNS :"
      ],
      "metadata": {
        "id": "PZOXVAJ8Ceuv"
      }
    },
    {
      "cell_type": "code",
      "source": [
        "# to add extra column with constatnt value, we use function lit:\n",
        "from pyspark.sql.functions import lit\n",
        "df = df.withColumn('Year',lit('2022'))"
      ],
      "metadata": {
        "id": "u_63plFaCWCw"
      },
      "execution_count": null,
      "outputs": []
    },
    {
      "cell_type": "code",
      "source": [
        "df.show()"
      ],
      "metadata": {
        "colab": {
          "base_uri": "https://localhost:8080/"
        },
        "id": "acG0Ig68QgHC",
        "outputId": "97159cea-0348-43b5-cc31-f70744c63d32"
      },
      "execution_count": null,
      "outputs": [
        {
          "output_type": "stream",
          "name": "stdout",
          "text": [
            "+-----+-------+----+----+-----+---+----+\n",
            "|Ozone|Solar.R|Wind|Temp|Month|Day|Year|\n",
            "+-----+-------+----+----+-----+---+----+\n",
            "|   41|    190| 7.4|  67|    5|  1|2022|\n",
            "|   36|    118| 8.0|  72|    5|  2|2022|\n",
            "|   12|    149|12.6|  74|    5|  3|2022|\n",
            "|   18|    313|11.5|  62|    5|  4|2022|\n",
            "|   NA|     NA|14.3|  56|    5|  5|2022|\n",
            "|   28|     NA|14.9|  66|    5|  6|2022|\n",
            "|   23|    299| 8.6|  65|    5|  7|2022|\n",
            "|   19|     99|13.8|  59|    5|  8|2022|\n",
            "|    8|     19|20.1|  61|    5|  9|2022|\n",
            "|   NA|    194| 8.6|  69|    5| 10|2022|\n",
            "|    7|     NA| 6.9|  74|    5| 11|2022|\n",
            "|   16|    256| 9.7|  69|    5| 12|2022|\n",
            "|   11|    290| 9.2|  66|    5| 13|2022|\n",
            "|   14|    274|10.9|  68|    5| 14|2022|\n",
            "|   18|     65|13.2|  58|    5| 15|2022|\n",
            "|   14|    334|11.5|  64|    5| 16|2022|\n",
            "|   34|    307|12.0|  66|    5| 17|2022|\n",
            "|    6|     78|18.4|  57|    5| 18|2022|\n",
            "|   30|    322|11.5|  68|    5| 19|2022|\n",
            "|   11|     44| 9.7|  62|    5| 20|2022|\n",
            "+-----+-------+----+----+-----+---+----+\n",
            "only showing top 20 rows\n",
            "\n"
          ]
        }
      ]
    },
    {
      "cell_type": "markdown",
      "source": [
        "## DROPPING THE COLUMNS"
      ],
      "metadata": {
        "id": "7FRWs4g3SkwM"
      }
    },
    {
      "cell_type": "code",
      "source": [
        "df = df.drop('Year')\n",
        "df.show()"
      ],
      "metadata": {
        "colab": {
          "base_uri": "https://localhost:8080/"
        },
        "id": "LrszMLHmRzGQ",
        "outputId": "eb32173c-0229-470f-bfb4-f1986a187f30"
      },
      "execution_count": null,
      "outputs": [
        {
          "output_type": "stream",
          "name": "stdout",
          "text": [
            "+-----+-------+----+----+-----+---+\n",
            "|Ozone|Solar.R|Wind|Temp|Month|Day|\n",
            "+-----+-------+----+----+-----+---+\n",
            "|   41|    190| 7.4|  67|    5|  1|\n",
            "|   36|    118| 8.0|  72|    5|  2|\n",
            "|   12|    149|12.6|  74|    5|  3|\n",
            "|   18|    313|11.5|  62|    5|  4|\n",
            "|   NA|     NA|14.3|  56|    5|  5|\n",
            "|   28|     NA|14.9|  66|    5|  6|\n",
            "|   23|    299| 8.6|  65|    5|  7|\n",
            "|   19|     99|13.8|  59|    5|  8|\n",
            "|    8|     19|20.1|  61|    5|  9|\n",
            "|   NA|    194| 8.6|  69|    5| 10|\n",
            "|    7|     NA| 6.9|  74|    5| 11|\n",
            "|   16|    256| 9.7|  69|    5| 12|\n",
            "|   11|    290| 9.2|  66|    5| 13|\n",
            "|   14|    274|10.9|  68|    5| 14|\n",
            "|   18|     65|13.2|  58|    5| 15|\n",
            "|   14|    334|11.5|  64|    5| 16|\n",
            "|   34|    307|12.0|  66|    5| 17|\n",
            "|    6|     78|18.4|  57|    5| 18|\n",
            "|   30|    322|11.5|  68|    5| 19|\n",
            "|   11|     44| 9.7|  62|    5| 20|\n",
            "+-----+-------+----+----+-----+---+\n",
            "only showing top 20 rows\n",
            "\n"
          ]
        }
      ]
    },
    {
      "cell_type": "markdown",
      "source": [
        "## Renaming the Columns:"
      ],
      "metadata": {
        "id": "QIEAv0X7S0IE"
      }
    },
    {
      "cell_type": "code",
      "source": [
        "df.withColumnRenamed('Solar.R','Solar').show(5)"
      ],
      "metadata": {
        "colab": {
          "base_uri": "https://localhost:8080/"
        },
        "id": "CVfJloA5StxN",
        "outputId": "925ec350-77d9-4007-e2e3-bff02aaf9d11"
      },
      "execution_count": null,
      "outputs": [
        {
          "output_type": "stream",
          "name": "stdout",
          "text": [
            "+-----+-----+----+----+-----+---+\n",
            "|Ozone|Solar|Wind|Temp|Month|Day|\n",
            "+-----+-----+----+----+-----+---+\n",
            "|   41|  190| 7.4|  67|    5|  1|\n",
            "|   36|  118| 8.0|  72|    5|  2|\n",
            "|   12|  149|12.6|  74|    5|  3|\n",
            "|   18|  313|11.5|  62|    5|  4|\n",
            "|   NA|   NA|14.3|  56|    5|  5|\n",
            "+-----+-----+----+----+-----+---+\n",
            "only showing top 5 rows\n",
            "\n"
          ]
        }
      ]
    },
    {
      "cell_type": "code",
      "source": [],
      "metadata": {
        "id": "tXQHBFnLTD00"
      },
      "execution_count": null,
      "outputs": []
    }
  ]
}